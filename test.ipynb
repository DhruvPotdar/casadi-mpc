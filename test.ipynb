{
 "cells": [
  {
   "cell_type": "code",
   "execution_count": 2,
   "metadata": {},
   "outputs": [],
   "source": [
    "from planner.planner import MotionPlanner\n",
    "from agents.agent import Agent\n",
    "\n",
    "import numpy as np"
   ]
  },
  {
   "cell_type": "code",
   "execution_count": 3,
   "metadata": {},
   "outputs": [],
   "source": [
    "import casadi as ca"
   ]
  },
  {
   "cell_type": "code",
   "execution_count": 4,
   "metadata": {},
   "outputs": [],
   "source": [
    "agent = Agent(1, (3, -4, np.deg2rad(90)), (5, 50, np.deg2rad(90)), horizon=30)"
   ]
  },
  {
   "cell_type": "code",
   "execution_count": 5,
   "metadata": {},
   "outputs": [],
   "source": [
    "planner = MotionPlanner(agent)"
   ]
  },
  {
   "cell_type": "code",
   "execution_count": 6,
   "metadata": {},
   "outputs": [
    {
     "name": "stdout",
     "output_type": "stream",
     "text": [
      "@1=mapaccum_f(zeros(2x1), ((0.041*U)+horzcat([5, 0], zeros(2x29)))){0}, horzcat((X[:90:3]+(0.041*(@1[:60:2]*cos(X[2:92:3]))))', (X[1:91:3]+(0.041*(@1[:60:2]*sin(X[2:92:3]))))', (X[2:92:3]+(0.041*@1[1:61:2]))')'\n"
     ]
    },
    {
     "data": {
      "text/plain": [
       "MX(@1=mapaccum_f(zeros(2x1), ((0.041*U)+horzcat([5, 0], zeros(2x29)))){0}, horzcat((X[:3]-P[:3]), (X[3:93]-horzcat((X[:90:3]+(0.041*(@1[:60:2]*cos(X[2:92:3]))))', (X[1:91:3]+(0.041*(@1[:60:2]*sin(X[2:92:3]))))', (X[2:92:3]+(0.041*@1[1:61:2]))')')))"
      ]
     },
     "execution_count": 6,
     "metadata": {},
     "output_type": "execute_result"
    }
   ],
   "source": [
    "planner.symbolic_states_constraints"
   ]
  },
  {
   "cell_type": "code",
   "execution_count": null,
   "metadata": {},
   "outputs": [
    {
     "name": "stdout",
     "output_type": "stream",
     "text": [
      "mx mapaccum_f(zeros(2x1), ((0.041*U)+horzcat([5, 0], zeros(2x29)))){0}\n"
     ]
    },
    {
     "data": {
      "text/plain": [
       "MX(@1=mapaccum_f(zeros(2x1), ((0.041*U)+horzcat([5, 0], zeros(2x29)))){0}, vertcat(vec(horzcat((X[:3]-P[:3]), (X[3:93]-horzcat((X[:90:3]+(0.041*(@1[:60:2]*cos(X[2:92:3]))))', (X[1:91:3]+(0.041*(@1[:60:2]*sin(X[2:92:3]))))', (X[2:92:3]+(0.041*@1[1:61:2]))')'))), mapaccum_f(0, (all_5(1x30)+(0.041*U[:60:2]))){0}', mapaccum_f(0, (0.041*U[1:61:2])){0}'))"
      ]
     },
     "execution_count": 6,
     "metadata": {},
     "output_type": "execute_result"
    }
   ],
   "source": [
    "planner.symbolic_constraints"
   ]
  },
  {
   "cell_type": "code",
   "execution_count": null,
   "metadata": {},
   "outputs": [
    {
     "data": {
      "text/plain": [
       "(DM([0, 0, 0, 0, 0, 0, 0, 0, 0, 0, 0, 0, 0, 0, 0, 0, 0, 0, 0, 0, 0, 0, 0, 0, 0, 0, 0, 0, 0, 0, 0, 0, 0, 0, 0, 0, 0, 0, 0, 0, 0, 0, 0, 0, 0, 0, 0, 0, 0, 0, 0, 0, 0, 0, 0, 0, 0, 0, 0, 0, 0, 0, 0, 0, 0, 0, 0, 0, 0, 0, 0, 0, 0, 0, 0, 0, 0, 0, 0, 0, 0, 0, 0, 0, 0, 0, 0, 0, 0, 0, 0, 0, 0, 0, 0, 0, 0, 0, 0, 0, 0, 0, 0, 0, 0, 0, 0, 0, 0, 0, 0, 0, 0, 0, 0, 0, 0, 0, 0, 0, 0, 0, 0, -0.785398, -0.785398, -0.785398, -0.785398, -0.785398, -0.785398, -0.785398, -0.785398, -0.785398, -0.785398, -0.785398, -0.785398, -0.785398, -0.785398, -0.785398, -0.785398, -0.785398, -0.785398, -0.785398, -0.785398, -0.785398, -0.785398, -0.785398, -0.785398, -0.785398, -0.785398, -0.785398, -0.785398, -0.785398, -0.785398]),\n",
       " DM([0, 0, 0, 0, 0, 0, 0, 0, 0, 0, 0, 0, 0, 0, 0, 0, 0, 0, 0, 0, 0, 0, 0, 0, 0, 0, 0, 0, 0, 0, 0, 0, 0, 0, 0, 0, 0, 0, 0, 0, 0, 0, 0, 0, 0, 0, 0, 0, 0, 0, 0, 0, 0, 0, 0, 0, 0, 0, 0, 0, 0, 0, 0, 0, 0, 0, 0, 0, 0, 0, 0, 0, 0, 0, 0, 0, 0, 0, 0, 0, 0, 0, 0, 0, 0, 0, 0, 0, 0, 0, 0, 0, 0, 12, 12, 12, 12, 12, 12, 12, 12, 12, 12, 12, 12, 12, 12, 12, 12, 12, 12, 12, 12, 12, 12, 12, 12, 12, 12, 12, 12, 12, 12, 0.785398, 0.785398, 0.785398, 0.785398, 0.785398, 0.785398, 0.785398, 0.785398, 0.785398, 0.785398, 0.785398, 0.785398, 0.785398, 0.785398, 0.785398, 0.785398, 0.785398, 0.785398, 0.785398, 0.785398, 0.785398, 0.785398, 0.785398, 0.785398, 0.785398, 0.785398, 0.785398, 0.785398, 0.785398, 0.785398]))"
      ]
     },
     "execution_count": 7,
     "metadata": {},
     "output_type": "execute_result"
    }
   ],
   "source": [
    "planner.constraints_bounds"
   ]
  }
 ],
 "metadata": {
  "kernelspec": {
   "display_name": "casadi",
   "language": "python",
   "name": "python3"
  },
  "language_info": {
   "codemirror_mode": {
    "name": "ipython",
    "version": 3
   },
   "file_extension": ".py",
   "mimetype": "text/x-python",
   "name": "python",
   "nbconvert_exporter": "python",
   "pygments_lexer": "ipython3",
   "version": "3.10.13"
  }
 },
 "nbformat": 4,
 "nbformat_minor": 2
}
